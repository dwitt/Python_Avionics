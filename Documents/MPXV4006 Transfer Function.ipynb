{
 "cells": [
  {
   "cell_type": "markdown",
   "source": [
    "### MPXV4006 Transfer Function  \n",
    "  \n",
    "$V_{out}=V_S*[(0.1533*P)+0.053]$ :from Datasheet  \n",
    "  \n",
    "where V is in volts, and P is in kPa \n",
    "  \n",
    "If P is changed to Pa, the equation becomes:  \n",
    "\n",
    "$V_{out}=V_S*[(1.533*10^{-4}*P)+0.053]$\n",
    "\n",
    "Re-arrange to solve for P  \n",
    "$\n",
    "\\begin{align}\n",
    "{ \\frac{V_{out}}{V_S}} &= 1.533*10^{-4} * P + 0.053\\\\  \n",
    "{ \\frac{V_{out}}{V_S}} -0.053 &= 1.533*10^{-4} * P\\\\\n",
    "{ \\frac{V_{out}}{1.533*10^{-4}*V_S}} - \\frac{0.053}{1.533*10^{-4}} &= P\\\\\n",
    "P &= 6523.1 * \\frac{V_{out}}{V_S} - 345.7\\\\\n",
    "\\end{align}\n",
    "$\n",
    "\n"
   ],
   "metadata": {}
  },
  {
   "cell_type": "markdown",
   "source": [
    "## Airspeed\n",
    "\n",
    "Airspeed calculations can be based on incompressible flow or compressible flow.  \n",
    "\n",
    "### Incompressible Flow\n",
    "For incompressible flow start with Bernoulli's equation which describes the flow in any horizontal stream\n",
    "\n",
    "$\\Large\\frac{p_1}{\\rho} + \\frac{1}{2}\\normalsize v_1^2 + gz_1 = \\Large\\frac{p_2}{\\rho} + \\frac{1}{2}\\normalsize v_2^2+gz_2 = const$\n",
    "\n",
    "simplify the equation as there is no change in height. Therefore $gz_1 = gz_2$\n",
    "\n",
    "$$\n",
    "\\begin{align}\n",
    "\\frac{p_1}{\\rho} + \\frac{1}{2} v_1^2 &= \\frac{p_2}{\\rho} + \\frac{1}{2} v_2^2\\\\\n",
    "\\\\\n",
    "\\frac{1}{2} v_1^2 - \\frac{1}{2} v_2^2 &= \\frac{p_2}{\\rho} - \\frac{p_1}{\\rho}\\\\\n",
    "\\\\\n",
    "\\frac{1}{2}(\\rho v_1^2 - \\rho v_2^2) &= p_2 - p_1\\\\\n",
    "\\end{align}\n",
    "$$\n",
    "\n",
    "For airspeed we are comparing the pitot pressure to the static pressure so the velocity at the high pressure port is zero (0) while velocity at the low pressure port is the airspeed. Simplifying the equation we get:\n",
    "\n",
    "$\n",
    "\\begin{align}\n",
    "\\frac{1}{2} \\rho v_1^2 &= p_2 - p_1\\\\\n",
    "\\\\\n",
    "\\rho v_1^2 &= 2 (p_2 - p_1)\\\\\n",
    "\\\\\n",
    "v_1^2 &= 2 \\frac{(p_2 - p_2)}{\\rho}\\\\\n",
    "\\\\\n",
    "v_1 &= \\sqrt{\\frac{2}{\\rho} (p_2 - p_2)}\\\\\n",
    "\\end{align}\n",
    "$\n",
    "\n",
    "We can replace the $p_2 - p_1$ with $q$ and get  \n",
    "  \n",
    "$V_T = \\Large\\sqrt{\\frac{2q}{\\rho_a}}$  \n",
    "\n",
    "where  \n",
    "  \n",
    "$V_T$ is True Airspeed  \n",
    "$\\rho_a$ is the air density at the aircraft's altitude  \n",
    "$q$ is the differential pressure  \n",
    "  \n",
    "But, since air density changes with altitude it is common to replace $\\rho_a$ with $\\rho_{ssl}$, the air density at sea level in a standard atmosphere.\n",
    "\n",
    "$V_e = \\Large\\sqrt{\\frac{2q}{\\rho_{ssl}}}$\n",
    "\n",
    "where\n",
    "\n",
    "$V_e$ is Equivalent Airspeed. \n",
    "$\\rho_{ssl}$ is Standard sea level air density. \n",
    "  \n",
    "### Compressible Flow\n",
    "\n",
    "For compressible flow we again start with "
   ],
   "metadata": {}
  }
 ],
 "metadata": {
  "kernelspec": {
   "name": "python3",
   "display_name": "Python 3.9.2 64-bit"
  },
  "language_info": {
   "codemirror_mode": {
    "name": "ipython",
    "version": 3
   },
   "file_extension": ".py",
   "mimetype": "text/x-python",
   "name": "python",
   "nbconvert_exporter": "python",
   "pygments_lexer": "ipython3",
   "version": "3.9.2"
  },
  "interpreter": {
   "hash": "4cd7ab41f5fca4b9b44701077e38c5ffd31fe66a6cab21e0214b68d958d0e462"
  }
 },
 "nbformat": 4,
 "nbformat_minor": 2
}